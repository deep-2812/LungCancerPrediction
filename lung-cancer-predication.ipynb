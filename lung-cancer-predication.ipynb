{
 "cells": [
  {
   "cell_type": "markdown",
   "id": "b5c9eb1f",
   "metadata": {
    "_cell_guid": "b1076dfc-b9ad-4769-8c92-a6c4dae69d19",
    "_uuid": "8f2839f25d086af736a60e9eeb907d3b93b6e0e5",
    "papermill": {
     "duration": 0.006975,
     "end_time": "2023-03-01T12:47:53.843166",
     "exception": false,
     "start_time": "2023-03-01T12:47:53.836191",
     "status": "completed"
    },
    "tags": []
   },
   "source": [
    "# Predicting the stage of Lung Cancer"
   ]
  },
  {
   "cell_type": "markdown",
   "id": "1d7e625a",
   "metadata": {
    "execution": {
     "iopub.execute_input": "2023-02-28T13:52:10.694303Z",
     "iopub.status.busy": "2023-02-28T13:52:10.693691Z",
     "iopub.status.idle": "2023-02-28T13:52:10.720699Z",
     "shell.execute_reply": "2023-02-28T13:52:10.719614Z",
     "shell.execute_reply.started": "2023-02-28T13:52:10.694225Z"
    },
    "papermill": {
     "duration": 0.00541,
     "end_time": "2023-03-01T12:47:53.854543",
     "exception": false,
     "start_time": "2023-03-01T12:47:53.849133",
     "status": "completed"
    },
    "tags": []
   },
   "source": [
    "## About the dataset:\n",
    "This dataset contains information on patients with lung cancer, including their age, gender, air pollution exposure, alcohol use, dust allergy, occupational hazards, genetic risk, chronic lung disease, balanced diet, obesity, smoking, passive smoker, chest pain, coughing of blood, fatigue, weight loss ,shortness of breath ,wheezing ,swallowing difficulty ,clubbing of finger nails and snoring."
   ]
  },
  {
   "cell_type": "markdown",
   "id": "09995c8c",
   "metadata": {
    "papermill": {
     "duration": 0.006422,
     "end_time": "2023-03-01T12:47:53.866675",
     "exception": false,
     "start_time": "2023-03-01T12:47:53.860253",
     "status": "completed"
    },
    "tags": []
   },
   "source": [
    "## Objective of the Analysis:\n",
    "- Predicting the likelihood of a patient developing lung cancer.\n",
    "- Predicting the stage of the Cancer.\n",
    "- identifying risk factors for lung cancer."
   ]
  },
  {
   "cell_type": "markdown",
   "id": "d3c44ad6",
   "metadata": {
    "papermill": {
     "duration": 0.005637,
     "end_time": "2023-03-01T12:47:53.880122",
     "exception": false,
     "start_time": "2023-03-01T12:47:53.874485",
     "status": "completed"
    },
    "tags": []
   },
   "source": [
    "### Step 1: Importing the necessary libraries and loading the dataset"
   ]
  },
  {
   "cell_type": "code",
   "execution_count": 1,
   "id": "0430162b",
   "metadata": {
    "execution": {
     "iopub.execute_input": "2023-03-01T12:47:53.894464Z",
     "iopub.status.busy": "2023-03-01T12:47:53.893675Z",
     "iopub.status.idle": "2023-03-01T12:47:55.470428Z",
     "shell.execute_reply": "2023-03-01T12:47:55.469027Z"
    },
    "papermill": {
     "duration": 1.588539,
     "end_time": "2023-03-01T12:47:55.474429",
     "exception": false,
     "start_time": "2023-03-01T12:47:53.885890",
     "status": "completed"
    },
    "tags": []
   },
   "outputs": [
    {
     "name": "stdout",
     "output_type": "stream",
     "text": [
      "<class 'pandas.core.frame.DataFrame'>\n",
      "RangeIndex: 1000 entries, 0 to 999\n",
      "Data columns (total 26 columns):\n",
      " #   Column                    Non-Null Count  Dtype \n",
      "---  ------                    --------------  ----- \n",
      " 0   index                     1000 non-null   int64 \n",
      " 1   Patient Id                1000 non-null   object\n",
      " 2   Age                       1000 non-null   int64 \n",
      " 3   Gender                    1000 non-null   int64 \n",
      " 4   Air Pollution             1000 non-null   int64 \n",
      " 5   Alcohol use               1000 non-null   int64 \n",
      " 6   Dust Allergy              1000 non-null   int64 \n",
      " 7   OccuPational Hazards      1000 non-null   int64 \n",
      " 8   Genetic Risk              1000 non-null   int64 \n",
      " 9   chronic Lung Disease      1000 non-null   int64 \n",
      " 10  Balanced Diet             1000 non-null   int64 \n",
      " 11  Obesity                   1000 non-null   int64 \n",
      " 12  Smoking                   1000 non-null   int64 \n",
      " 13  Passive Smoker            1000 non-null   int64 \n",
      " 14  Chest Pain                1000 non-null   int64 \n",
      " 15  Coughing of Blood         1000 non-null   int64 \n",
      " 16  Fatigue                   1000 non-null   int64 \n",
      " 17  Weight Loss               1000 non-null   int64 \n",
      " 18  Shortness of Breath       1000 non-null   int64 \n",
      " 19  Wheezing                  1000 non-null   int64 \n",
      " 20  Swallowing Difficulty     1000 non-null   int64 \n",
      " 21  Clubbing of Finger Nails  1000 non-null   int64 \n",
      " 22  Frequent Cold             1000 non-null   int64 \n",
      " 23  Dry Cough                 1000 non-null   int64 \n",
      " 24  Snoring                   1000 non-null   int64 \n",
      " 25  Level                     1000 non-null   object\n",
      "dtypes: int64(24), object(2)\n",
      "memory usage: 203.2+ KB\n"
     ]
    }
   ],
   "source": [
    "# Importing necessary libraries and loading the dataset\n",
    "import pandas as pd\n",
    "import numpy as np\n",
    "import matplotlib.pyplot as plt\n",
    "import seaborn as sns\n",
    "pd.set_option('max_columns', 100)\n",
    "\n",
    "df = pd.read_csv(r\"D:\\Documents\\Projects\\ML\\DataSets\\cancer patient data sets.csv\")\n",
    "df.info()"
   ]
  },
  {
   "cell_type": "markdown",
   "id": "2418f50a",
   "metadata": {
    "execution": {
     "iopub.execute_input": "2023-02-28T14:06:46.837672Z",
     "iopub.status.busy": "2023-02-28T14:06:46.837255Z",
     "iopub.status.idle": "2023-02-28T14:06:46.842637Z",
     "shell.execute_reply": "2023-02-28T14:06:46.841521Z",
     "shell.execute_reply.started": "2023-02-28T14:06:46.837636Z"
    },
    "papermill": {
     "duration": 0.005628,
     "end_time": "2023-03-01T12:47:55.487239",
     "exception": false,
     "start_time": "2023-03-01T12:47:55.481611",
     "status": "completed"
    },
    "tags": []
   },
   "source": [
    "### Step 2: Exploratory data analysis"
   ]
  },
  {
   "cell_type": "code",
   "execution_count": 2,
   "id": "b70eb59e",
   "metadata": {
    "execution": {
     "iopub.execute_input": "2023-03-01T12:47:55.502056Z",
     "iopub.status.busy": "2023-03-01T12:47:55.501619Z",
     "iopub.status.idle": "2023-03-01T12:47:55.538342Z",
     "shell.execute_reply": "2023-03-01T12:47:55.537031Z"
    },
    "papermill": {
     "duration": 0.047445,
     "end_time": "2023-03-01T12:47:55.541202",
     "exception": false,
     "start_time": "2023-03-01T12:47:55.493757",
     "status": "completed"
    },
    "tags": []
   },
   "outputs": [
    {
     "data": {
      "text/html": [
       "<div>\n",
       "<style scoped>\n",
       "    .dataframe tbody tr th:only-of-type {\n",
       "        vertical-align: middle;\n",
       "    }\n",
       "\n",
       "    .dataframe tbody tr th {\n",
       "        vertical-align: top;\n",
       "    }\n",
       "\n",
       "    .dataframe thead th {\n",
       "        text-align: right;\n",
       "    }\n",
       "</style>\n",
       "<table border=\"1\" class=\"dataframe\">\n",
       "  <thead>\n",
       "    <tr style=\"text-align: right;\">\n",
       "      <th></th>\n",
       "      <th>index</th>\n",
       "      <th>Patient Id</th>\n",
       "      <th>Age</th>\n",
       "      <th>Gender</th>\n",
       "      <th>Air Pollution</th>\n",
       "      <th>Alcohol use</th>\n",
       "      <th>Dust Allergy</th>\n",
       "      <th>OccuPational Hazards</th>\n",
       "      <th>Genetic Risk</th>\n",
       "      <th>chronic Lung Disease</th>\n",
       "      <th>Balanced Diet</th>\n",
       "      <th>Obesity</th>\n",
       "      <th>Smoking</th>\n",
       "      <th>Passive Smoker</th>\n",
       "      <th>Chest Pain</th>\n",
       "      <th>Coughing of Blood</th>\n",
       "      <th>Fatigue</th>\n",
       "      <th>Weight Loss</th>\n",
       "      <th>Shortness of Breath</th>\n",
       "      <th>Wheezing</th>\n",
       "      <th>Swallowing Difficulty</th>\n",
       "      <th>Clubbing of Finger Nails</th>\n",
       "      <th>Frequent Cold</th>\n",
       "      <th>Dry Cough</th>\n",
       "      <th>Snoring</th>\n",
       "      <th>Level</th>\n",
       "    </tr>\n",
       "  </thead>\n",
       "  <tbody>\n",
       "    <tr>\n",
       "      <th>0</th>\n",
       "      <td>0</td>\n",
       "      <td>P1</td>\n",
       "      <td>33</td>\n",
       "      <td>1</td>\n",
       "      <td>2</td>\n",
       "      <td>4</td>\n",
       "      <td>5</td>\n",
       "      <td>4</td>\n",
       "      <td>3</td>\n",
       "      <td>2</td>\n",
       "      <td>2</td>\n",
       "      <td>4</td>\n",
       "      <td>3</td>\n",
       "      <td>2</td>\n",
       "      <td>2</td>\n",
       "      <td>4</td>\n",
       "      <td>3</td>\n",
       "      <td>4</td>\n",
       "      <td>2</td>\n",
       "      <td>2</td>\n",
       "      <td>3</td>\n",
       "      <td>1</td>\n",
       "      <td>2</td>\n",
       "      <td>3</td>\n",
       "      <td>4</td>\n",
       "      <td>Low</td>\n",
       "    </tr>\n",
       "    <tr>\n",
       "      <th>1</th>\n",
       "      <td>1</td>\n",
       "      <td>P10</td>\n",
       "      <td>17</td>\n",
       "      <td>1</td>\n",
       "      <td>3</td>\n",
       "      <td>1</td>\n",
       "      <td>5</td>\n",
       "      <td>3</td>\n",
       "      <td>4</td>\n",
       "      <td>2</td>\n",
       "      <td>2</td>\n",
       "      <td>2</td>\n",
       "      <td>2</td>\n",
       "      <td>4</td>\n",
       "      <td>2</td>\n",
       "      <td>3</td>\n",
       "      <td>1</td>\n",
       "      <td>3</td>\n",
       "      <td>7</td>\n",
       "      <td>8</td>\n",
       "      <td>6</td>\n",
       "      <td>2</td>\n",
       "      <td>1</td>\n",
       "      <td>7</td>\n",
       "      <td>2</td>\n",
       "      <td>Medium</td>\n",
       "    </tr>\n",
       "    <tr>\n",
       "      <th>2</th>\n",
       "      <td>2</td>\n",
       "      <td>P100</td>\n",
       "      <td>35</td>\n",
       "      <td>1</td>\n",
       "      <td>4</td>\n",
       "      <td>5</td>\n",
       "      <td>6</td>\n",
       "      <td>5</td>\n",
       "      <td>5</td>\n",
       "      <td>4</td>\n",
       "      <td>6</td>\n",
       "      <td>7</td>\n",
       "      <td>2</td>\n",
       "      <td>3</td>\n",
       "      <td>4</td>\n",
       "      <td>8</td>\n",
       "      <td>8</td>\n",
       "      <td>7</td>\n",
       "      <td>9</td>\n",
       "      <td>2</td>\n",
       "      <td>1</td>\n",
       "      <td>4</td>\n",
       "      <td>6</td>\n",
       "      <td>7</td>\n",
       "      <td>2</td>\n",
       "      <td>High</td>\n",
       "    </tr>\n",
       "    <tr>\n",
       "      <th>3</th>\n",
       "      <td>3</td>\n",
       "      <td>P1000</td>\n",
       "      <td>37</td>\n",
       "      <td>1</td>\n",
       "      <td>7</td>\n",
       "      <td>7</td>\n",
       "      <td>7</td>\n",
       "      <td>7</td>\n",
       "      <td>6</td>\n",
       "      <td>7</td>\n",
       "      <td>7</td>\n",
       "      <td>7</td>\n",
       "      <td>7</td>\n",
       "      <td>7</td>\n",
       "      <td>7</td>\n",
       "      <td>8</td>\n",
       "      <td>4</td>\n",
       "      <td>2</td>\n",
       "      <td>3</td>\n",
       "      <td>1</td>\n",
       "      <td>4</td>\n",
       "      <td>5</td>\n",
       "      <td>6</td>\n",
       "      <td>7</td>\n",
       "      <td>5</td>\n",
       "      <td>High</td>\n",
       "    </tr>\n",
       "    <tr>\n",
       "      <th>4</th>\n",
       "      <td>4</td>\n",
       "      <td>P101</td>\n",
       "      <td>46</td>\n",
       "      <td>1</td>\n",
       "      <td>6</td>\n",
       "      <td>8</td>\n",
       "      <td>7</td>\n",
       "      <td>7</td>\n",
       "      <td>7</td>\n",
       "      <td>6</td>\n",
       "      <td>7</td>\n",
       "      <td>7</td>\n",
       "      <td>8</td>\n",
       "      <td>7</td>\n",
       "      <td>7</td>\n",
       "      <td>9</td>\n",
       "      <td>3</td>\n",
       "      <td>2</td>\n",
       "      <td>4</td>\n",
       "      <td>1</td>\n",
       "      <td>4</td>\n",
       "      <td>2</td>\n",
       "      <td>4</td>\n",
       "      <td>2</td>\n",
       "      <td>3</td>\n",
       "      <td>High</td>\n",
       "    </tr>\n",
       "    <tr>\n",
       "      <th>5</th>\n",
       "      <td>5</td>\n",
       "      <td>P102</td>\n",
       "      <td>35</td>\n",
       "      <td>1</td>\n",
       "      <td>4</td>\n",
       "      <td>5</td>\n",
       "      <td>6</td>\n",
       "      <td>5</td>\n",
       "      <td>5</td>\n",
       "      <td>4</td>\n",
       "      <td>6</td>\n",
       "      <td>7</td>\n",
       "      <td>2</td>\n",
       "      <td>3</td>\n",
       "      <td>4</td>\n",
       "      <td>8</td>\n",
       "      <td>8</td>\n",
       "      <td>7</td>\n",
       "      <td>9</td>\n",
       "      <td>2</td>\n",
       "      <td>1</td>\n",
       "      <td>4</td>\n",
       "      <td>6</td>\n",
       "      <td>7</td>\n",
       "      <td>2</td>\n",
       "      <td>High</td>\n",
       "    </tr>\n",
       "    <tr>\n",
       "      <th>6</th>\n",
       "      <td>6</td>\n",
       "      <td>P103</td>\n",
       "      <td>52</td>\n",
       "      <td>2</td>\n",
       "      <td>2</td>\n",
       "      <td>4</td>\n",
       "      <td>5</td>\n",
       "      <td>4</td>\n",
       "      <td>3</td>\n",
       "      <td>2</td>\n",
       "      <td>2</td>\n",
       "      <td>4</td>\n",
       "      <td>3</td>\n",
       "      <td>2</td>\n",
       "      <td>2</td>\n",
       "      <td>4</td>\n",
       "      <td>3</td>\n",
       "      <td>4</td>\n",
       "      <td>2</td>\n",
       "      <td>2</td>\n",
       "      <td>3</td>\n",
       "      <td>1</td>\n",
       "      <td>2</td>\n",
       "      <td>3</td>\n",
       "      <td>4</td>\n",
       "      <td>Low</td>\n",
       "    </tr>\n",
       "    <tr>\n",
       "      <th>7</th>\n",
       "      <td>7</td>\n",
       "      <td>P104</td>\n",
       "      <td>28</td>\n",
       "      <td>2</td>\n",
       "      <td>3</td>\n",
       "      <td>1</td>\n",
       "      <td>4</td>\n",
       "      <td>3</td>\n",
       "      <td>2</td>\n",
       "      <td>3</td>\n",
       "      <td>4</td>\n",
       "      <td>3</td>\n",
       "      <td>1</td>\n",
       "      <td>4</td>\n",
       "      <td>3</td>\n",
       "      <td>1</td>\n",
       "      <td>3</td>\n",
       "      <td>2</td>\n",
       "      <td>2</td>\n",
       "      <td>4</td>\n",
       "      <td>2</td>\n",
       "      <td>2</td>\n",
       "      <td>3</td>\n",
       "      <td>4</td>\n",
       "      <td>3</td>\n",
       "      <td>Low</td>\n",
       "    </tr>\n",
       "    <tr>\n",
       "      <th>8</th>\n",
       "      <td>8</td>\n",
       "      <td>P105</td>\n",
       "      <td>35</td>\n",
       "      <td>2</td>\n",
       "      <td>4</td>\n",
       "      <td>5</td>\n",
       "      <td>6</td>\n",
       "      <td>5</td>\n",
       "      <td>6</td>\n",
       "      <td>5</td>\n",
       "      <td>5</td>\n",
       "      <td>5</td>\n",
       "      <td>6</td>\n",
       "      <td>6</td>\n",
       "      <td>6</td>\n",
       "      <td>5</td>\n",
       "      <td>1</td>\n",
       "      <td>4</td>\n",
       "      <td>3</td>\n",
       "      <td>2</td>\n",
       "      <td>4</td>\n",
       "      <td>6</td>\n",
       "      <td>2</td>\n",
       "      <td>4</td>\n",
       "      <td>1</td>\n",
       "      <td>Medium</td>\n",
       "    </tr>\n",
       "    <tr>\n",
       "      <th>9</th>\n",
       "      <td>9</td>\n",
       "      <td>P106</td>\n",
       "      <td>46</td>\n",
       "      <td>1</td>\n",
       "      <td>2</td>\n",
       "      <td>3</td>\n",
       "      <td>4</td>\n",
       "      <td>2</td>\n",
       "      <td>4</td>\n",
       "      <td>3</td>\n",
       "      <td>3</td>\n",
       "      <td>3</td>\n",
       "      <td>2</td>\n",
       "      <td>3</td>\n",
       "      <td>4</td>\n",
       "      <td>4</td>\n",
       "      <td>1</td>\n",
       "      <td>2</td>\n",
       "      <td>4</td>\n",
       "      <td>6</td>\n",
       "      <td>5</td>\n",
       "      <td>4</td>\n",
       "      <td>2</td>\n",
       "      <td>1</td>\n",
       "      <td>5</td>\n",
       "      <td>Medium</td>\n",
       "    </tr>\n",
       "  </tbody>\n",
       "</table>\n",
       "</div>"
      ],
      "text/plain": [
       "   index Patient Id  Age  Gender  Air Pollution  Alcohol use  Dust Allergy  \\\n",
       "0      0         P1   33       1              2            4             5   \n",
       "1      1        P10   17       1              3            1             5   \n",
       "2      2       P100   35       1              4            5             6   \n",
       "3      3      P1000   37       1              7            7             7   \n",
       "4      4       P101   46       1              6            8             7   \n",
       "5      5       P102   35       1              4            5             6   \n",
       "6      6       P103   52       2              2            4             5   \n",
       "7      7       P104   28       2              3            1             4   \n",
       "8      8       P105   35       2              4            5             6   \n",
       "9      9       P106   46       1              2            3             4   \n",
       "\n",
       "   OccuPational Hazards  Genetic Risk  chronic Lung Disease  Balanced Diet  \\\n",
       "0                     4             3                     2              2   \n",
       "1                     3             4                     2              2   \n",
       "2                     5             5                     4              6   \n",
       "3                     7             6                     7              7   \n",
       "4                     7             7                     6              7   \n",
       "5                     5             5                     4              6   \n",
       "6                     4             3                     2              2   \n",
       "7                     3             2                     3              4   \n",
       "8                     5             6                     5              5   \n",
       "9                     2             4                     3              3   \n",
       "\n",
       "   Obesity  Smoking  Passive Smoker  Chest Pain  Coughing of Blood  Fatigue  \\\n",
       "0        4        3               2           2                  4        3   \n",
       "1        2        2               4           2                  3        1   \n",
       "2        7        2               3           4                  8        8   \n",
       "3        7        7               7           7                  8        4   \n",
       "4        7        8               7           7                  9        3   \n",
       "5        7        2               3           4                  8        8   \n",
       "6        4        3               2           2                  4        3   \n",
       "7        3        1               4           3                  1        3   \n",
       "8        5        6               6           6                  5        1   \n",
       "9        3        2               3           4                  4        1   \n",
       "\n",
       "   Weight Loss  Shortness of Breath  Wheezing  Swallowing Difficulty  \\\n",
       "0            4                    2         2                      3   \n",
       "1            3                    7         8                      6   \n",
       "2            7                    9         2                      1   \n",
       "3            2                    3         1                      4   \n",
       "4            2                    4         1                      4   \n",
       "5            7                    9         2                      1   \n",
       "6            4                    2         2                      3   \n",
       "7            2                    2         4                      2   \n",
       "8            4                    3         2                      4   \n",
       "9            2                    4         6                      5   \n",
       "\n",
       "   Clubbing of Finger Nails  Frequent Cold  Dry Cough  Snoring   Level  \n",
       "0                         1              2          3        4     Low  \n",
       "1                         2              1          7        2  Medium  \n",
       "2                         4              6          7        2    High  \n",
       "3                         5              6          7        5    High  \n",
       "4                         2              4          2        3    High  \n",
       "5                         4              6          7        2    High  \n",
       "6                         1              2          3        4     Low  \n",
       "7                         2              3          4        3     Low  \n",
       "8                         6              2          4        1  Medium  \n",
       "9                         4              2          1        5  Medium  "
      ]
     },
     "execution_count": 2,
     "metadata": {},
     "output_type": "execute_result"
    }
   ],
   "source": [
    "#Looking at the columns and data\n",
    "df.head(10)"
   ]
  },
  {
   "cell_type": "code",
   "execution_count": 3,
   "id": "cfe24484",
   "metadata": {
    "execution": {
     "iopub.execute_input": "2023-03-01T12:47:55.557613Z",
     "iopub.status.busy": "2023-03-01T12:47:55.557180Z",
     "iopub.status.idle": "2023-03-01T12:47:55.582853Z",
     "shell.execute_reply": "2023-03-01T12:47:55.581051Z"
    },
    "papermill": {
     "duration": 0.037182,
     "end_time": "2023-03-01T12:47:55.585641",
     "exception": false,
     "start_time": "2023-03-01T12:47:55.548459",
     "status": "completed"
    },
    "tags": []
   },
   "outputs": [
    {
     "data": {
      "text/plain": [
       "False    1000\n",
       "dtype: int64"
      ]
     },
     "execution_count": 3,
     "metadata": {},
     "output_type": "execute_result"
    }
   ],
   "source": [
    "# Checking duplicate values:\n",
    "df.duplicated().value_counts()\n",
    "# The data has no duplicate values"
   ]
  },
  {
   "cell_type": "code",
   "execution_count": 4,
   "id": "3a680150",
   "metadata": {
    "execution": {
     "iopub.execute_input": "2023-03-01T12:47:55.601879Z",
     "iopub.status.busy": "2023-03-01T12:47:55.601472Z",
     "iopub.status.idle": "2023-03-01T12:47:55.628624Z",
     "shell.execute_reply": "2023-03-01T12:47:55.627079Z"
    },
    "papermill": {
     "duration": 0.038599,
     "end_time": "2023-03-01T12:47:55.631506",
     "exception": false,
     "start_time": "2023-03-01T12:47:55.592907",
     "status": "completed"
    },
    "tags": []
   },
   "outputs": [
    {
     "data": {
      "text/html": [
       "<div>\n",
       "<style scoped>\n",
       "    .dataframe tbody tr th:only-of-type {\n",
       "        vertical-align: middle;\n",
       "    }\n",
       "\n",
       "    .dataframe tbody tr th {\n",
       "        vertical-align: top;\n",
       "    }\n",
       "\n",
       "    .dataframe thead th {\n",
       "        text-align: right;\n",
       "    }\n",
       "</style>\n",
       "<table border=\"1\" class=\"dataframe\">\n",
       "  <thead>\n",
       "    <tr style=\"text-align: right;\">\n",
       "      <th></th>\n",
       "      <th>Age</th>\n",
       "      <th>Gender</th>\n",
       "      <th>Air Pollution</th>\n",
       "      <th>Alcohol use</th>\n",
       "      <th>Dust Allergy</th>\n",
       "      <th>OccuPational Hazards</th>\n",
       "      <th>Genetic Risk</th>\n",
       "      <th>chronic Lung Disease</th>\n",
       "      <th>Balanced Diet</th>\n",
       "      <th>Obesity</th>\n",
       "      <th>Smoking</th>\n",
       "      <th>Passive Smoker</th>\n",
       "      <th>Chest Pain</th>\n",
       "      <th>Coughing of Blood</th>\n",
       "      <th>Fatigue</th>\n",
       "      <th>Weight Loss</th>\n",
       "      <th>Shortness of Breath</th>\n",
       "      <th>Wheezing</th>\n",
       "      <th>Swallowing Difficulty</th>\n",
       "      <th>Clubbing of Finger Nails</th>\n",
       "      <th>Frequent Cold</th>\n",
       "      <th>Dry Cough</th>\n",
       "      <th>Snoring</th>\n",
       "      <th>Level</th>\n",
       "    </tr>\n",
       "  </thead>\n",
       "  <tbody>\n",
       "    <tr>\n",
       "      <th>0</th>\n",
       "      <td>33</td>\n",
       "      <td>1</td>\n",
       "      <td>2</td>\n",
       "      <td>4</td>\n",
       "      <td>5</td>\n",
       "      <td>4</td>\n",
       "      <td>3</td>\n",
       "      <td>2</td>\n",
       "      <td>2</td>\n",
       "      <td>4</td>\n",
       "      <td>3</td>\n",
       "      <td>2</td>\n",
       "      <td>2</td>\n",
       "      <td>4</td>\n",
       "      <td>3</td>\n",
       "      <td>4</td>\n",
       "      <td>2</td>\n",
       "      <td>2</td>\n",
       "      <td>3</td>\n",
       "      <td>1</td>\n",
       "      <td>2</td>\n",
       "      <td>3</td>\n",
       "      <td>4</td>\n",
       "      <td>Low</td>\n",
       "    </tr>\n",
       "    <tr>\n",
       "      <th>1</th>\n",
       "      <td>17</td>\n",
       "      <td>1</td>\n",
       "      <td>3</td>\n",
       "      <td>1</td>\n",
       "      <td>5</td>\n",
       "      <td>3</td>\n",
       "      <td>4</td>\n",
       "      <td>2</td>\n",
       "      <td>2</td>\n",
       "      <td>2</td>\n",
       "      <td>2</td>\n",
       "      <td>4</td>\n",
       "      <td>2</td>\n",
       "      <td>3</td>\n",
       "      <td>1</td>\n",
       "      <td>3</td>\n",
       "      <td>7</td>\n",
       "      <td>8</td>\n",
       "      <td>6</td>\n",
       "      <td>2</td>\n",
       "      <td>1</td>\n",
       "      <td>7</td>\n",
       "      <td>2</td>\n",
       "      <td>Medium</td>\n",
       "    </tr>\n",
       "    <tr>\n",
       "      <th>2</th>\n",
       "      <td>35</td>\n",
       "      <td>1</td>\n",
       "      <td>4</td>\n",
       "      <td>5</td>\n",
       "      <td>6</td>\n",
       "      <td>5</td>\n",
       "      <td>5</td>\n",
       "      <td>4</td>\n",
       "      <td>6</td>\n",
       "      <td>7</td>\n",
       "      <td>2</td>\n",
       "      <td>3</td>\n",
       "      <td>4</td>\n",
       "      <td>8</td>\n",
       "      <td>8</td>\n",
       "      <td>7</td>\n",
       "      <td>9</td>\n",
       "      <td>2</td>\n",
       "      <td>1</td>\n",
       "      <td>4</td>\n",
       "      <td>6</td>\n",
       "      <td>7</td>\n",
       "      <td>2</td>\n",
       "      <td>High</td>\n",
       "    </tr>\n",
       "    <tr>\n",
       "      <th>3</th>\n",
       "      <td>37</td>\n",
       "      <td>1</td>\n",
       "      <td>7</td>\n",
       "      <td>7</td>\n",
       "      <td>7</td>\n",
       "      <td>7</td>\n",
       "      <td>6</td>\n",
       "      <td>7</td>\n",
       "      <td>7</td>\n",
       "      <td>7</td>\n",
       "      <td>7</td>\n",
       "      <td>7</td>\n",
       "      <td>7</td>\n",
       "      <td>8</td>\n",
       "      <td>4</td>\n",
       "      <td>2</td>\n",
       "      <td>3</td>\n",
       "      <td>1</td>\n",
       "      <td>4</td>\n",
       "      <td>5</td>\n",
       "      <td>6</td>\n",
       "      <td>7</td>\n",
       "      <td>5</td>\n",
       "      <td>High</td>\n",
       "    </tr>\n",
       "    <tr>\n",
       "      <th>4</th>\n",
       "      <td>46</td>\n",
       "      <td>1</td>\n",
       "      <td>6</td>\n",
       "      <td>8</td>\n",
       "      <td>7</td>\n",
       "      <td>7</td>\n",
       "      <td>7</td>\n",
       "      <td>6</td>\n",
       "      <td>7</td>\n",
       "      <td>7</td>\n",
       "      <td>8</td>\n",
       "      <td>7</td>\n",
       "      <td>7</td>\n",
       "      <td>9</td>\n",
       "      <td>3</td>\n",
       "      <td>2</td>\n",
       "      <td>4</td>\n",
       "      <td>1</td>\n",
       "      <td>4</td>\n",
       "      <td>2</td>\n",
       "      <td>4</td>\n",
       "      <td>2</td>\n",
       "      <td>3</td>\n",
       "      <td>High</td>\n",
       "    </tr>\n",
       "    <tr>\n",
       "      <th>5</th>\n",
       "      <td>35</td>\n",
       "      <td>1</td>\n",
       "      <td>4</td>\n",
       "      <td>5</td>\n",
       "      <td>6</td>\n",
       "      <td>5</td>\n",
       "      <td>5</td>\n",
       "      <td>4</td>\n",
       "      <td>6</td>\n",
       "      <td>7</td>\n",
       "      <td>2</td>\n",
       "      <td>3</td>\n",
       "      <td>4</td>\n",
       "      <td>8</td>\n",
       "      <td>8</td>\n",
       "      <td>7</td>\n",
       "      <td>9</td>\n",
       "      <td>2</td>\n",
       "      <td>1</td>\n",
       "      <td>4</td>\n",
       "      <td>6</td>\n",
       "      <td>7</td>\n",
       "      <td>2</td>\n",
       "      <td>High</td>\n",
       "    </tr>\n",
       "    <tr>\n",
       "      <th>6</th>\n",
       "      <td>52</td>\n",
       "      <td>2</td>\n",
       "      <td>2</td>\n",
       "      <td>4</td>\n",
       "      <td>5</td>\n",
       "      <td>4</td>\n",
       "      <td>3</td>\n",
       "      <td>2</td>\n",
       "      <td>2</td>\n",
       "      <td>4</td>\n",
       "      <td>3</td>\n",
       "      <td>2</td>\n",
       "      <td>2</td>\n",
       "      <td>4</td>\n",
       "      <td>3</td>\n",
       "      <td>4</td>\n",
       "      <td>2</td>\n",
       "      <td>2</td>\n",
       "      <td>3</td>\n",
       "      <td>1</td>\n",
       "      <td>2</td>\n",
       "      <td>3</td>\n",
       "      <td>4</td>\n",
       "      <td>Low</td>\n",
       "    </tr>\n",
       "    <tr>\n",
       "      <th>7</th>\n",
       "      <td>28</td>\n",
       "      <td>2</td>\n",
       "      <td>3</td>\n",
       "      <td>1</td>\n",
       "      <td>4</td>\n",
       "      <td>3</td>\n",
       "      <td>2</td>\n",
       "      <td>3</td>\n",
       "      <td>4</td>\n",
       "      <td>3</td>\n",
       "      <td>1</td>\n",
       "      <td>4</td>\n",
       "      <td>3</td>\n",
       "      <td>1</td>\n",
       "      <td>3</td>\n",
       "      <td>2</td>\n",
       "      <td>2</td>\n",
       "      <td>4</td>\n",
       "      <td>2</td>\n",
       "      <td>2</td>\n",
       "      <td>3</td>\n",
       "      <td>4</td>\n",
       "      <td>3</td>\n",
       "      <td>Low</td>\n",
       "    </tr>\n",
       "    <tr>\n",
       "      <th>8</th>\n",
       "      <td>35</td>\n",
       "      <td>2</td>\n",
       "      <td>4</td>\n",
       "      <td>5</td>\n",
       "      <td>6</td>\n",
       "      <td>5</td>\n",
       "      <td>6</td>\n",
       "      <td>5</td>\n",
       "      <td>5</td>\n",
       "      <td>5</td>\n",
       "      <td>6</td>\n",
       "      <td>6</td>\n",
       "      <td>6</td>\n",
       "      <td>5</td>\n",
       "      <td>1</td>\n",
       "      <td>4</td>\n",
       "      <td>3</td>\n",
       "      <td>2</td>\n",
       "      <td>4</td>\n",
       "      <td>6</td>\n",
       "      <td>2</td>\n",
       "      <td>4</td>\n",
       "      <td>1</td>\n",
       "      <td>Medium</td>\n",
       "    </tr>\n",
       "    <tr>\n",
       "      <th>9</th>\n",
       "      <td>46</td>\n",
       "      <td>1</td>\n",
       "      <td>2</td>\n",
       "      <td>3</td>\n",
       "      <td>4</td>\n",
       "      <td>2</td>\n",
       "      <td>4</td>\n",
       "      <td>3</td>\n",
       "      <td>3</td>\n",
       "      <td>3</td>\n",
       "      <td>2</td>\n",
       "      <td>3</td>\n",
       "      <td>4</td>\n",
       "      <td>4</td>\n",
       "      <td>1</td>\n",
       "      <td>2</td>\n",
       "      <td>4</td>\n",
       "      <td>6</td>\n",
       "      <td>5</td>\n",
       "      <td>4</td>\n",
       "      <td>2</td>\n",
       "      <td>1</td>\n",
       "      <td>5</td>\n",
       "      <td>Medium</td>\n",
       "    </tr>\n",
       "  </tbody>\n",
       "</table>\n",
       "</div>"
      ],
      "text/plain": [
       "   Age  Gender  Air Pollution  Alcohol use  Dust Allergy  \\\n",
       "0   33       1              2            4             5   \n",
       "1   17       1              3            1             5   \n",
       "2   35       1              4            5             6   \n",
       "3   37       1              7            7             7   \n",
       "4   46       1              6            8             7   \n",
       "5   35       1              4            5             6   \n",
       "6   52       2              2            4             5   \n",
       "7   28       2              3            1             4   \n",
       "8   35       2              4            5             6   \n",
       "9   46       1              2            3             4   \n",
       "\n",
       "   OccuPational Hazards  Genetic Risk  chronic Lung Disease  Balanced Diet  \\\n",
       "0                     4             3                     2              2   \n",
       "1                     3             4                     2              2   \n",
       "2                     5             5                     4              6   \n",
       "3                     7             6                     7              7   \n",
       "4                     7             7                     6              7   \n",
       "5                     5             5                     4              6   \n",
       "6                     4             3                     2              2   \n",
       "7                     3             2                     3              4   \n",
       "8                     5             6                     5              5   \n",
       "9                     2             4                     3              3   \n",
       "\n",
       "   Obesity  Smoking  Passive Smoker  Chest Pain  Coughing of Blood  Fatigue  \\\n",
       "0        4        3               2           2                  4        3   \n",
       "1        2        2               4           2                  3        1   \n",
       "2        7        2               3           4                  8        8   \n",
       "3        7        7               7           7                  8        4   \n",
       "4        7        8               7           7                  9        3   \n",
       "5        7        2               3           4                  8        8   \n",
       "6        4        3               2           2                  4        3   \n",
       "7        3        1               4           3                  1        3   \n",
       "8        5        6               6           6                  5        1   \n",
       "9        3        2               3           4                  4        1   \n",
       "\n",
       "   Weight Loss  Shortness of Breath  Wheezing  Swallowing Difficulty  \\\n",
       "0            4                    2         2                      3   \n",
       "1            3                    7         8                      6   \n",
       "2            7                    9         2                      1   \n",
       "3            2                    3         1                      4   \n",
       "4            2                    4         1                      4   \n",
       "5            7                    9         2                      1   \n",
       "6            4                    2         2                      3   \n",
       "7            2                    2         4                      2   \n",
       "8            4                    3         2                      4   \n",
       "9            2                    4         6                      5   \n",
       "\n",
       "   Clubbing of Finger Nails  Frequent Cold  Dry Cough  Snoring   Level  \n",
       "0                         1              2          3        4     Low  \n",
       "1                         2              1          7        2  Medium  \n",
       "2                         4              6          7        2    High  \n",
       "3                         5              6          7        5    High  \n",
       "4                         2              4          2        3    High  \n",
       "5                         4              6          7        2    High  \n",
       "6                         1              2          3        4     Low  \n",
       "7                         2              3          4        3     Low  \n",
       "8                         6              2          4        1  Medium  \n",
       "9                         4              2          1        5  Medium  "
      ]
     },
     "execution_count": 4,
     "metadata": {},
     "output_type": "execute_result"
    }
   ],
   "source": [
    "# Droping useless columns\n",
    "df.drop(columns=['index', 'Patient Id'], axis=1, inplace=True)\n",
    "df.head(10)"
   ]
  },
  {
   "cell_type": "code",
   "execution_count": 5,
   "id": "34f68c54",
   "metadata": {
    "execution": {
     "iopub.execute_input": "2023-03-01T12:47:55.647545Z",
     "iopub.status.busy": "2023-03-01T12:47:55.647132Z",
     "iopub.status.idle": "2023-03-01T12:47:56.042088Z",
     "shell.execute_reply": "2023-03-01T12:47:56.040529Z"
    },
    "papermill": {
     "duration": 0.406701,
     "end_time": "2023-03-01T12:47:56.045298",
     "exception": false,
     "start_time": "2023-03-01T12:47:55.638597",
     "status": "completed"
    },
    "tags": []
   },
   "outputs": [
    {
     "data": {
      "image/png": "[encoded data removed]",
      "text/plain": [
       "<Figure size 640x480 with 1 Axes>"
      ]
     },
     "metadata": {},
     "output_type": "display_data"
    }
   ],
   "source": [
    "fig1 = sns.histplot(data=df, x='Age', kde=True)\n",
    "fig1.set_title('Distribution of Patient according to age group');"
   ]
  },
  {
   "cell_type": "code",
   "execution_count": 6,
   "id": "30b2f070",
   "metadata": {
    "execution": {
     "iopub.execute_input": "2023-03-01T12:47:56.063360Z",
     "iopub.status.busy": "2023-03-01T12:47:56.062866Z",
     "iopub.status.idle": "2023-03-01T12:47:56.286733Z",
     "shell.execute_reply": "2023-03-01T12:47:56.285245Z"
    },
    "papermill": {
     "duration": 0.236695,
     "end_time": "2023-03-01T12:47:56.290085",
     "exception": false,
     "start_time": "2023-03-01T12:47:56.053390",
     "status": "completed"
    },
    "tags": []
   },
   "outputs": [
    {
     "data": {
      "image/png": "[encoded data removed]",
      "text/plain": [
       "<Figure size 640x480 with 1 Axes>"
      ]
     },
     "metadata": {},
     "output_type": "display_data"
    }
   ],
   "source": [
    "fig3 = sns.countplot(data=df, x='Gender')\n",
    "fig3.set_title('Count of Male and female Patient');"
   ]
  },
  {
   "cell_type": "code",
   "execution_count": 7,
   "id": "aa360cf2",
   "metadata": {
    "execution": {
     "iopub.execute_input": "2023-03-01T12:47:56.309074Z",
     "iopub.status.busy": "2023-03-01T12:47:56.308655Z",
     "iopub.status.idle": "2023-03-01T12:47:56.540785Z",
     "shell.execute_reply": "2023-03-01T12:47:56.539464Z"
    },
    "papermill": {
     "duration": 0.245303,
     "end_time": "2023-03-01T12:47:56.543610",
     "exception": false,
     "start_time": "2023-03-01T12:47:56.298307",
     "status": "completed"
    },
    "tags": []
   },
   "outputs": [
    {
     "data": {
      "image/png": "[encoded data removed]",
      "text/plain": [
       "<Figure size 640x480 with 1 Axes>"
      ]
     },
     "metadata": {},
     "output_type": "display_data"
    }
   ],
   "source": [
    "fig4 = sns.countplot(data=df, x='Level')\n",
    "fig4.set_title(\"Count of Patient by Level\");"
   ]
  },
  {
   "cell_type": "code",
   "execution_count": 8,
   "id": "70e44cbb",
   "metadata": {
    "execution": {
     "iopub.execute_input": "2023-03-01T12:47:56.562621Z",
     "iopub.status.busy": "2023-03-01T12:47:56.562181Z",
     "iopub.status.idle": "2023-03-01T12:47:57.630405Z",
     "shell.execute_reply": "2023-03-01T12:47:57.629069Z"
    },
    "papermill": {
     "duration": 1.08211,
     "end_time": "2023-03-01T12:47:57.634239",
     "exception": false,
     "start_time": "2023-03-01T12:47:56.552129",
     "status": "completed"
    },
    "tags": []
   },
   "outputs": [
    {
     "data": {
      "image/png": "[encoded data removed]",
      "text/plain": [
       "<Figure size 640x480 with 2 Axes>"
      ]
     },
     "metadata": {},
     "output_type": "display_data"
    }
   ],
   "source": [
    "corr_symtoms = df[['Chest Pain','Coughing of Blood', 'Fatigue', 'Weight Loss', 'Shortness of Breath',\n",
    "       'Wheezing', 'Swallowing Difficulty', 'Clubbing of Finger Nails',\n",
    "       'Frequent Cold', 'Dry Cough', 'Snoring']].corr()\n",
    "fig2 = sns.heatmap(data=corr_symtoms, annot=True, linewidth=0.5, linecolor='black')\n",
    "fig2.set_title('Correlation between Symtoms');"
   ]
  },
  {
   "cell_type": "code",
   "execution_count": 9,
   "id": "e3414cbc",
   "metadata": {
    "execution": {
     "iopub.execute_input": "2023-03-01T12:47:57.660412Z",
     "iopub.status.busy": "2023-03-01T12:47:57.659596Z",
     "iopub.status.idle": "2023-03-01T12:47:57.888434Z",
     "shell.execute_reply": "2023-03-01T12:47:57.886797Z"
    },
    "papermill": {
     "duration": 0.247077,
     "end_time": "2023-03-01T12:47:57.892734",
     "exception": false,
     "start_time": "2023-03-01T12:47:57.645657",
     "status": "completed"
    },
    "tags": []
   },
   "outputs": [
    {
     "name": "stdout",
     "output_type": "stream",
     "text": [
      " Low: [1], Medium: [2] and High: [0]\n"
     ]
    }
   ],
   "source": [
    "#Converting Level of cancer into number for better learning\n",
    "from sklearn.preprocessing import LabelEncoder\n",
    "le = LabelEncoder()\n",
    "df[\"Level\"] = le.fit_transform(df['Level'])\n",
    "\n",
    "#Printing values\n",
    "print(f' Low: {le.transform([\"Low\"])}, Medium: {le.transform([\"Medium\"])} and High: {le.transform([\"High\"])}')"
   ]
  },
  {
   "cell_type": "markdown",
   "id": "e341b8a3",
   "metadata": {
    "papermill": {
     "duration": 0.010276,
     "end_time": "2023-03-01T12:47:57.914557",
     "exception": false,
     "start_time": "2023-03-01T12:47:57.904281",
     "status": "completed"
    },
    "tags": []
   },
   "source": [
    "### Step 4: Setting up variable"
   ]
  },
  {
   "cell_type": "code",
   "execution_count": 10,
   "id": "1abdc68c",
   "metadata": {
    "execution": {
     "iopub.execute_input": "2023-03-01T12:47:57.938663Z",
     "iopub.status.busy": "2023-03-01T12:47:57.937037Z",
     "iopub.status.idle": "2023-03-01T12:47:57.944120Z",
     "shell.execute_reply": "2023-03-01T12:47:57.943039Z"
    },
    "papermill": {
     "duration": 0.021981,
     "end_time": "2023-03-01T12:47:57.947030",
     "exception": false,
     "start_time": "2023-03-01T12:47:57.925049",
     "status": "completed"
    },
    "tags": []
   },
   "outputs": [],
   "source": [
    "X = df.iloc[:,:-1]\n",
    "y = df.iloc[:,-1:]"
   ]
  },
  {
   "cell_type": "markdown",
   "id": "cca2fea8",
   "metadata": {
    "papermill": {
     "duration": 0.010199,
     "end_time": "2023-03-01T12:47:57.967878",
     "exception": false,
     "start_time": "2023-03-01T12:47:57.957679",
     "status": "completed"
    },
    "tags": []
   },
   "source": [
    "### Step 3: Spliting the model into training and test set"
   ]
  },
  {
   "cell_type": "code",
   "execution_count": 11,
   "id": "f1a9f146",
   "metadata": {
    "execution": {
     "iopub.execute_input": "2023-03-01T12:47:57.991875Z",
     "iopub.status.busy": "2023-03-01T12:47:57.991364Z",
     "iopub.status.idle": "2023-03-01T12:47:58.092772Z",
     "shell.execute_reply": "2023-03-01T12:47:58.091185Z"
    },
    "papermill": {
     "duration": 0.11778,
     "end_time": "2023-03-01T12:47:58.096495",
     "exception": false,
     "start_time": "2023-03-01T12:47:57.978715",
     "status": "completed"
    },
    "tags": []
   },
   "outputs": [],
   "source": [
    "from sklearn.model_selection import train_test_split\n",
    "\n",
    "X_train, X_test, y_train, y_test = train_test_split( X, y, test_size=0.3 )"
   ]
  },
  {
   "cell_type": "markdown",
   "id": "d5526398",
   "metadata": {
    "papermill": {
     "duration": 0.01139,
     "end_time": "2023-03-01T12:47:58.119591",
     "exception": false,
     "start_time": "2023-03-01T12:47:58.108201",
     "status": "completed"
    },
    "tags": []
   },
   "source": [
    "### Step 4: Model Creation\n",
    "- Decision Tree"
   ]
  },
  {
   "cell_type": "markdown",
   "id": "c0d81bae",
   "metadata": {
    "papermill": {
     "duration": 0.011263,
     "end_time": "2023-03-01T12:47:58.141743",
     "exception": false,
     "start_time": "2023-03-01T12:47:58.130480",
     "status": "completed"
    },
    "tags": []
   },
   "source": [
    "#### Decision Tree Model"
   ]
  },
  {
   "cell_type": "code",
   "execution_count": 12,
   "id": "88157fc4",
   "metadata": {
    "execution": {
     "iopub.execute_input": "2023-03-01T12:47:58.165692Z",
     "iopub.status.busy": "2023-03-01T12:47:58.165214Z",
     "iopub.status.idle": "2023-03-01T12:47:58.489436Z",
     "shell.execute_reply": "2023-03-01T12:47:58.487850Z"
    },
    "papermill": {
     "duration": 0.340172,
     "end_time": "2023-03-01T12:47:58.493190",
     "exception": false,
     "start_time": "2023-03-01T12:47:58.153018",
     "status": "completed"
    },
    "tags": []
   },
   "outputs": [],
   "source": [
    "from sklearn.tree import DecisionTreeClassifier\n",
    "\n",
    "cf = DecisionTreeClassifier()\n",
    "\n",
    "#Training the model\n",
    "cf.fit( X_train, y_train )\n",
    "\n",
    "#Predicting the outcomes\n",
    "y_predict = cf.predict(X_test)"
   ]
  },
  {
   "cell_type": "markdown",
   "id": "4e7a8b6e",
   "metadata": {
    "papermill": {
     "duration": 0.010659,
     "end_time": "2023-03-01T12:47:58.515157",
     "exception": false,
     "start_time": "2023-03-01T12:47:58.504498",
     "status": "completed"
    },
    "tags": []
   },
   "source": [
    "#### Finding the accuracy of Decision Tree Model"
   ]
  },
  {
   "cell_type": "code",
   "execution_count": 13,
   "id": "e2b21c2b",
   "metadata": {
    "execution": {
     "iopub.execute_input": "2023-03-01T12:47:58.541648Z",
     "iopub.status.busy": "2023-03-01T12:47:58.541214Z",
     "iopub.status.idle": "2023-03-01T12:47:58.550139Z",
     "shell.execute_reply": "2023-03-01T12:47:58.548473Z"
    },
    "papermill": {
     "duration": 0.025901,
     "end_time": "2023-03-01T12:47:58.553432",
     "exception": false,
     "start_time": "2023-03-01T12:47:58.527531",
     "status": "completed"
    },
    "tags": []
   },
   "outputs": [
    {
     "name": "stdout",
     "output_type": "stream",
     "text": [
      "Accuracy of the Decision Tree Model is 100.0\n"
     ]
    }
   ],
   "source": [
    "from sklearn.metrics import accuracy_score\n",
    "accuracy = accuracy_score(y_predict, y_test)\n",
    "print(f'Accuracy of the Decision Tree Model is {round(accuracy*100, 2)}')"
   ]
  },
  {
   "cell_type": "markdown",
   "id": "f6024280",
   "metadata": {
    "papermill": {
     "duration": 0.01193,
     "end_time": "2023-03-01T12:47:58.576054",
     "exception": false,
     "start_time": "2023-03-01T12:47:58.564124",
     "status": "completed"
    },
    "tags": []
   },
   "source": [
    "*We are able to achive the accuracy of 100% with this model.*"
   ]
  }
 ],
 "metadata": {
  "kernelspec": {
   "display_name": "Python 3",
   "language": "python",
   "name": "python3"
  },
  "language_info": {
   "codemirror_mode": {
    "name": "ipython",
    "version": 3
   },
   "file_extension": ".py",
   "mimetype": "text/x-python",
   "name": "python",
   "nbconvert_exporter": "python",
   "pygments_lexer": "ipython3",
   "version": "3.11.2"
  },
  "papermill": {
   "default_parameters": {},
   "duration": 18.93982,
   "end_time": "2023-03-01T12:47:59.512870",
   "environment_variables": {},
   "exception": null,
   "input_path": "__notebook__.ipynb",
   "output_path": "__notebook__.ipynb",
   "parameters": {},
   "start_time": "2023-03-01T12:47:40.573050",
   "version": "2.4.0"
  },
  "vscode": {
   "interpreter": {
    "hash": "d0ecee0aa5c68654efadd481ac361860c9207df6a5056ef2201608cf73e92585"
   }
  }
 },
 "nbformat": 4,
 "nbformat_minor": 5
}
